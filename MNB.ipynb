{
  "nbformat": 4,
  "nbformat_minor": 0,
  "metadata": {
    "colab": {
      "name": "MNB.ipynb",
      "provenance": [],
      "collapsed_sections": []
    },
    "kernelspec": {
      "name": "python3",
      "display_name": "Python 3"
    }
  },
  "cells": [
    {
      "cell_type": "code",
      "metadata": {
        "id": "8yWfRCeoqR40",
        "colab_type": "code",
        "outputId": "05ceaaa5-6ab4-430a-ffc5-8c31f3338d4a",
        "colab": {
          "base_uri": "https://localhost:8080/",
          "height": 565
        }
      },
      "source": [
        "!pip install neuralcoref --no-binary neuralcoref #invoking pip example. normall pip install works too. This is to ensure all compatibility"
      ],
      "execution_count": 0,
      "outputs": [
        {
          "output_type": "stream",
          "text": [
            "Collecting neuralcoref\n",
            "\u001b[?25l  Downloading https://files.pythonhosted.org/packages/0c/40/8db3db763077fe80b71859f57731261aeb03cc624635f97a3bcfe55ab37b/neuralcoref-4.0.tar.gz (368kB)\n",
            "\r\u001b[K     |▉                               | 10kB 15.7MB/s eta 0:00:01\r\u001b[K     |█▊                              | 20kB 3.3MB/s eta 0:00:01\r\u001b[K     |██▋                             | 30kB 4.3MB/s eta 0:00:01\r\u001b[K     |███▌                            | 40kB 3.1MB/s eta 0:00:01\r\u001b[K     |████▍                           | 51kB 3.8MB/s eta 0:00:01\r\u001b[K     |█████▎                          | 61kB 4.5MB/s eta 0:00:01\r\u001b[K     |██████▏                         | 71kB 5.0MB/s eta 0:00:01\r\u001b[K     |███████                         | 81kB 5.6MB/s eta 0:00:01\r\u001b[K     |████████                        | 92kB 6.3MB/s eta 0:00:01\r\u001b[K     |████████▉                       | 102kB 5.0MB/s eta 0:00:01\r\u001b[K     |█████████▊                      | 112kB 5.0MB/s eta 0:00:01\r\u001b[K     |██████████▋                     | 122kB 5.0MB/s eta 0:00:01\r\u001b[K     |███████████▌                    | 133kB 5.0MB/s eta 0:00:01\r\u001b[K     |████████████▍                   | 143kB 5.0MB/s eta 0:00:01\r\u001b[K     |█████████████▎                  | 153kB 5.0MB/s eta 0:00:01\r\u001b[K     |██████████████▏                 | 163kB 5.0MB/s eta 0:00:01\r\u001b[K     |███████████████                 | 174kB 5.0MB/s eta 0:00:01\r\u001b[K     |████████████████                | 184kB 5.0MB/s eta 0:00:01\r\u001b[K     |████████████████▉               | 194kB 5.0MB/s eta 0:00:01\r\u001b[K     |█████████████████▊              | 204kB 5.0MB/s eta 0:00:01\r\u001b[K     |██████████████████▋             | 215kB 5.0MB/s eta 0:00:01\r\u001b[K     |███████████████████▌            | 225kB 5.0MB/s eta 0:00:01\r\u001b[K     |████████████████████▍           | 235kB 5.0MB/s eta 0:00:01\r\u001b[K     |█████████████████████▎          | 245kB 5.0MB/s eta 0:00:01\r\u001b[K     |██████████████████████▏         | 256kB 5.0MB/s eta 0:00:01\r\u001b[K     |███████████████████████         | 266kB 5.0MB/s eta 0:00:01\r\u001b[K     |████████████████████████        | 276kB 5.0MB/s eta 0:00:01\r\u001b[K     |████████████████████████▉       | 286kB 5.0MB/s eta 0:00:01\r\u001b[K     |█████████████████████████▊      | 296kB 5.0MB/s eta 0:00:01\r\u001b[K     |██████████████████████████▋     | 307kB 5.0MB/s eta 0:00:01\r\u001b[K     |███████████████████████████▌    | 317kB 5.0MB/s eta 0:00:01\r\u001b[K     |████████████████████████████▍   | 327kB 5.0MB/s eta 0:00:01\r\u001b[K     |█████████████████████████████▎  | 337kB 5.0MB/s eta 0:00:01\r\u001b[K     |██████████████████████████████▏ | 348kB 5.0MB/s eta 0:00:01\r\u001b[K     |███████████████████████████████ | 358kB 5.0MB/s eta 0:00:01\r\u001b[K     |████████████████████████████████| 368kB 5.0MB/s eta 0:00:01\r\u001b[K     |████████████████████████████████| 378kB 5.0MB/s \n",
            "\u001b[?25hRequirement already satisfied: numpy>=1.15.0 in /usr/local/lib/python3.6/dist-packages (from neuralcoref) (1.17.4)\n",
            "Requirement already satisfied: boto3 in /usr/local/lib/python3.6/dist-packages (from neuralcoref) (1.10.27)\n",
            "Requirement already satisfied: requests<3.0.0,>=2.13.0 in /usr/local/lib/python3.6/dist-packages (from neuralcoref) (2.21.0)\n",
            "Requirement already satisfied: spacy>=2.1.0 in /usr/local/lib/python3.6/dist-packages (from neuralcoref) (2.1.9)\n",
            "Requirement already satisfied: s3transfer<0.3.0,>=0.2.0 in /usr/local/lib/python3.6/dist-packages (from boto3->neuralcoref) (0.2.1)\n",
            "Requirement already satisfied: jmespath<1.0.0,>=0.7.1 in /usr/local/lib/python3.6/dist-packages (from boto3->neuralcoref) (0.9.4)\n",
            "Requirement already satisfied: botocore<1.14.0,>=1.13.27 in /usr/local/lib/python3.6/dist-packages (from boto3->neuralcoref) (1.13.27)\n",
            "Requirement already satisfied: chardet<3.1.0,>=3.0.2 in /usr/local/lib/python3.6/dist-packages (from requests<3.0.0,>=2.13.0->neuralcoref) (3.0.4)\n",
            "Requirement already satisfied: idna<2.9,>=2.5 in /usr/local/lib/python3.6/dist-packages (from requests<3.0.0,>=2.13.0->neuralcoref) (2.8)\n",
            "Requirement already satisfied: urllib3<1.25,>=1.21.1 in /usr/local/lib/python3.6/dist-packages (from requests<3.0.0,>=2.13.0->neuralcoref) (1.24.3)\n",
            "Requirement already satisfied: certifi>=2017.4.17 in /usr/local/lib/python3.6/dist-packages (from requests<3.0.0,>=2.13.0->neuralcoref) (2019.9.11)\n",
            "Requirement already satisfied: blis<0.3.0,>=0.2.2 in /usr/local/lib/python3.6/dist-packages (from spacy>=2.1.0->neuralcoref) (0.2.4)\n",
            "Requirement already satisfied: thinc<7.1.0,>=7.0.8 in /usr/local/lib/python3.6/dist-packages (from spacy>=2.1.0->neuralcoref) (7.0.8)\n",
            "Requirement already satisfied: srsly<1.1.0,>=0.0.6 in /usr/local/lib/python3.6/dist-packages (from spacy>=2.1.0->neuralcoref) (0.2.0)\n",
            "Requirement already satisfied: murmurhash<1.1.0,>=0.28.0 in /usr/local/lib/python3.6/dist-packages (from spacy>=2.1.0->neuralcoref) (1.0.2)\n",
            "Requirement already satisfied: wasabi<1.1.0,>=0.2.0 in /usr/local/lib/python3.6/dist-packages (from spacy>=2.1.0->neuralcoref) (0.4.0)\n",
            "Requirement already satisfied: cymem<2.1.0,>=2.0.2 in /usr/local/lib/python3.6/dist-packages (from spacy>=2.1.0->neuralcoref) (2.0.3)\n",
            "Requirement already satisfied: preshed<2.1.0,>=2.0.1 in /usr/local/lib/python3.6/dist-packages (from spacy>=2.1.0->neuralcoref) (2.0.1)\n",
            "Requirement already satisfied: plac<1.0.0,>=0.9.6 in /usr/local/lib/python3.6/dist-packages (from spacy>=2.1.0->neuralcoref) (0.9.6)\n",
            "Requirement already satisfied: python-dateutil<2.8.1,>=2.1; python_version >= \"2.7\" in /usr/local/lib/python3.6/dist-packages (from botocore<1.14.0,>=1.13.27->boto3->neuralcoref) (2.6.1)\n",
            "Requirement already satisfied: docutils<0.16,>=0.10 in /usr/local/lib/python3.6/dist-packages (from botocore<1.14.0,>=1.13.27->boto3->neuralcoref) (0.15.2)\n",
            "Requirement already satisfied: tqdm<5.0.0,>=4.10.0 in /usr/local/lib/python3.6/dist-packages (from thinc<7.1.0,>=7.0.8->spacy>=2.1.0->neuralcoref) (4.28.1)\n",
            "Requirement already satisfied: six>=1.5 in /usr/local/lib/python3.6/dist-packages (from python-dateutil<2.8.1,>=2.1; python_version >= \"2.7\"->botocore<1.14.0,>=1.13.27->boto3->neuralcoref) (1.12.0)\n",
            "Skipping wheel build for neuralcoref, due to binaries being disabled for it.\n",
            "Installing collected packages: neuralcoref\n",
            "    Running setup.py install for neuralcoref ... \u001b[?25l\u001b[?25hdone\n",
            "Successfully installed neuralcoref-4.0\n"
          ],
          "name": "stdout"
        }
      ]
    },
    {
      "cell_type": "code",
      "metadata": {
        "id": "O3KyAO9twnxZ",
        "colab_type": "code",
        "outputId": "243a1c54-9e9e-48d5-d167-8a8a650c89cd",
        "colab": {
          "base_uri": "https://localhost:8080/",
          "height": 125
        }
      },
      "source": [
        "!pip install -q sklearn\n",
        "!pip install scikit-multilearn"
      ],
      "execution_count": 0,
      "outputs": [
        {
          "output_type": "stream",
          "text": [
            "Collecting scikit-multilearn\n",
            "\u001b[?25l  Downloading https://files.pythonhosted.org/packages/bb/1f/e6ff649c72a1cdf2c7a1d31eb21705110ce1c5d3e7e26b2cc300e1637272/scikit_multilearn-0.2.0-py3-none-any.whl (89kB)\n",
            "\r\u001b[K     |███▊                            | 10kB 15.9MB/s eta 0:00:01\r\u001b[K     |███████▍                        | 20kB 3.2MB/s eta 0:00:01\r\u001b[K     |███████████                     | 30kB 4.7MB/s eta 0:00:01\r\u001b[K     |██████████████▊                 | 40kB 3.0MB/s eta 0:00:01\r\u001b[K     |██████████████████▍             | 51kB 3.7MB/s eta 0:00:01\r\u001b[K     |██████████████████████          | 61kB 4.4MB/s eta 0:00:01\r\u001b[K     |█████████████████████████▊      | 71kB 5.0MB/s eta 0:00:01\r\u001b[K     |█████████████████████████████▍  | 81kB 5.6MB/s eta 0:00:01\r\u001b[K     |████████████████████████████████| 92kB 4.1MB/s \n",
            "\u001b[?25hInstalling collected packages: scikit-multilearn\n",
            "Successfully installed scikit-multilearn-0.2.0\n"
          ],
          "name": "stdout"
        }
      ]
    },
    {
      "cell_type": "code",
      "metadata": {
        "id": "AhsLJtEaqg4Z",
        "colab_type": "code",
        "outputId": "f98b2491-db82-4ab1-aef7-28743626ecc3",
        "colab": {
          "base_uri": "https://localhost:8080/",
          "height": 210
        }
      },
      "source": [
        "!pip uninstall spacy"
      ],
      "execution_count": 0,
      "outputs": [
        {
          "output_type": "stream",
          "text": [
            "Uninstalling spacy-2.1.9:\n",
            "  Would remove:\n",
            "    /usr/local/bin/spacy\n",
            "    /usr/local/lib/python3.6/dist-packages/bin/*\n",
            "    /usr/local/lib/python3.6/dist-packages/spacy-2.1.9.dist-info/*\n",
            "    /usr/local/lib/python3.6/dist-packages/spacy/*\n",
            "  Would not remove (might be manually added):\n",
            "    /usr/local/lib/python3.6/dist-packages/bin/theano_cache.py\n",
            "    /usr/local/lib/python3.6/dist-packages/bin/theano_nose.py\n",
            "Proceed (y/n)? y\n",
            "  Successfully uninstalled spacy-2.1.9\n"
          ],
          "name": "stdout"
        }
      ]
    },
    {
      "cell_type": "code",
      "metadata": {
        "id": "nXdN1duYqyso",
        "colab_type": "code",
        "outputId": "cd372caa-5863-460a-a5a9-dfb15568fa5e",
        "colab": {
          "base_uri": "https://localhost:8080/",
          "height": 406
        }
      },
      "source": [
        "!pip install spacy==2.1.0"
      ],
      "execution_count": 0,
      "outputs": [
        {
          "output_type": "stream",
          "text": [
            "Collecting spacy==2.1.0\n",
            "\u001b[?25l  Downloading https://files.pythonhosted.org/packages/62/39/4bde5da5f18ab0bdd525760c4fe38808b4bb03907a2aea094000d831afe1/spacy-2.1.0-cp36-cp36m-manylinux1_x86_64.whl (27.7MB)\n",
            "\u001b[K     |████████████████████████████████| 27.7MB 86kB/s \n",
            "\u001b[?25hRequirement already satisfied: wasabi<1.1.0,>=0.0.12 in /usr/local/lib/python3.6/dist-packages (from spacy==2.1.0) (0.4.0)\n",
            "Requirement already satisfied: jsonschema<3.0.0,>=2.6.0 in /usr/local/lib/python3.6/dist-packages (from spacy==2.1.0) (2.6.0)\n",
            "Requirement already satisfied: numpy>=1.15.0 in /usr/local/lib/python3.6/dist-packages (from spacy==2.1.0) (1.17.4)\n",
            "Requirement already satisfied: blis<0.3.0,>=0.2.2 in /usr/local/lib/python3.6/dist-packages (from spacy==2.1.0) (0.2.4)\n",
            "Requirement already satisfied: requests<3.0.0,>=2.13.0 in /usr/local/lib/python3.6/dist-packages (from spacy==2.1.0) (2.21.0)\n",
            "Requirement already satisfied: preshed<2.1.0,>=2.0.1 in /usr/local/lib/python3.6/dist-packages (from spacy==2.1.0) (2.0.1)\n",
            "Requirement already satisfied: srsly<1.1.0,>=0.0.5 in /usr/local/lib/python3.6/dist-packages (from spacy==2.1.0) (0.2.0)\n",
            "Requirement already satisfied: plac<1.0.0,>=0.9.6 in /usr/local/lib/python3.6/dist-packages (from spacy==2.1.0) (0.9.6)\n",
            "Requirement already satisfied: thinc<7.1.0,>=7.0.2 in /usr/local/lib/python3.6/dist-packages (from spacy==2.1.0) (7.0.8)\n",
            "Requirement already satisfied: murmurhash<1.1.0,>=0.28.0 in /usr/local/lib/python3.6/dist-packages (from spacy==2.1.0) (1.0.2)\n",
            "Requirement already satisfied: cymem<2.1.0,>=2.0.2 in /usr/local/lib/python3.6/dist-packages (from spacy==2.1.0) (2.0.3)\n",
            "Requirement already satisfied: idna<2.9,>=2.5 in /usr/local/lib/python3.6/dist-packages (from requests<3.0.0,>=2.13.0->spacy==2.1.0) (2.8)\n",
            "Requirement already satisfied: urllib3<1.25,>=1.21.1 in /usr/local/lib/python3.6/dist-packages (from requests<3.0.0,>=2.13.0->spacy==2.1.0) (1.24.3)\n",
            "Requirement already satisfied: certifi>=2017.4.17 in /usr/local/lib/python3.6/dist-packages (from requests<3.0.0,>=2.13.0->spacy==2.1.0) (2019.9.11)\n",
            "Requirement already satisfied: chardet<3.1.0,>=3.0.2 in /usr/local/lib/python3.6/dist-packages (from requests<3.0.0,>=2.13.0->spacy==2.1.0) (3.0.4)\n",
            "Requirement already satisfied: tqdm<5.0.0,>=4.10.0 in /usr/local/lib/python3.6/dist-packages (from thinc<7.1.0,>=7.0.2->spacy==2.1.0) (4.28.1)\n",
            "Installing collected packages: spacy\n",
            "Successfully installed spacy-2.1.0\n"
          ],
          "name": "stdout"
        }
      ]
    },
    {
      "cell_type": "code",
      "metadata": {
        "id": "eEQMyEETq284",
        "colab_type": "code",
        "outputId": "0726098f-ab44-43bc-f565-ace6e34793ca",
        "colab": {
          "base_uri": "https://localhost:8080/",
          "height": 52
        }
      },
      "source": [
        "import spacy\n",
        "import pandas as pd\n",
        "import spacy.cli\n",
        "spacy.cli.download(\"en_core_web_lg\") #installing large English model"
      ],
      "execution_count": 0,
      "outputs": [
        {
          "output_type": "stream",
          "text": [
            "\u001b[38;5;2m✔ Download and installation successful\u001b[0m\n",
            "You can now load the model via spacy.load('en_core_web_lg')\n"
          ],
          "name": "stdout"
        }
      ]
    },
    {
      "cell_type": "code",
      "metadata": {
        "id": "STXtxdII4E_K",
        "colab_type": "code",
        "outputId": "c791ac50-78b9-41ee-c0ec-4ce1b6416560",
        "colab": {
          "base_uri": "https://localhost:8080/",
          "height": 52
        }
      },
      "source": [
        "import en_core_web_lg\n",
        "nlp = en_core_web_lg.load() #loading and testing neuracoref functionality\n",
        "\n",
        "# Add neural coref to SpaCy's pipe\n",
        "import neuralcoref\n",
        "neuralcoref.add_to_pipe(nlp)\n",
        "\n",
        "# We can now use NeuralCoref as we usually manipulate a SpaCy document annotations.\n",
        "doc = nlp(u'My sister has a dog. She loves him.')\n",
        "\n",
        "doc._.coref_resolved\n"
      ],
      "execution_count": 0,
      "outputs": [
        {
          "output_type": "stream",
          "text": [
            "100%|██████████| 40155833/40155833 [00:01<00:00, 27098125.57B/s]\n"
          ],
          "name": "stderr"
        },
        {
          "output_type": "execute_result",
          "data": {
            "text/plain": [
              "'My sister has a dog. My sister loves a dog.'"
            ]
          },
          "metadata": {
            "tags": []
          },
          "execution_count": 6
        }
      ]
    },
    {
      "cell_type": "code",
      "metadata": {
        "id": "J7BMvz7gMD4v",
        "colab_type": "code",
        "outputId": "62c206df-7276-4d00-d23e-42b6f61b98ec",
        "colab": {
          "base_uri": "https://localhost:8080/",
          "height": 125
        }
      },
      "source": [
        "from google.colab import drive #mounting the Google drive folder\n",
        "drive.mount('/content/drive')"
      ],
      "execution_count": 0,
      "outputs": [
        {
          "output_type": "stream",
          "text": [
            "Go to this URL in a browser: https://accounts.google.com/o/oauth2/auth?client_id=947318989803-6bn6qk8qdgf4n4g3pfee6491hc0brc4i.apps.googleusercontent.com&redirect_uri=urn%3aietf%3awg%3aoauth%3a2.0%3aoob&response_type=code&scope=email%20https%3a%2f%2fwww.googleapis.com%2fauth%2fdocs.test%20https%3a%2f%2fwww.googleapis.com%2fauth%2fdrive%20https%3a%2f%2fwww.googleapis.com%2fauth%2fdrive.photos.readonly%20https%3a%2f%2fwww.googleapis.com%2fauth%2fpeopleapi.readonly\n",
            "\n",
            "Enter your authorization code:\n",
            "··········\n",
            "Mounted at /content/drive\n"
          ],
          "name": "stdout"
        }
      ]
    },
    {
      "cell_type": "code",
      "metadata": {
        "id": "bblJgFoTMO05",
        "colab_type": "code",
        "colab": {}
      },
      "source": [
        "import pandas as pd\n",
        "labelled_df=pd.read_csv('/content/drive/My Drive/Datasets for ML Project/specific_reviews.csv',encoding='utf-8') #loading data from drive"
      ],
      "execution_count": 0,
      "outputs": []
    },
    {
      "cell_type": "code",
      "metadata": {
        "id": "FQPhK50DNYye",
        "colab_type": "code",
        "outputId": "f5b79109-4df1-4ab6-9814-0a495ced3308",
        "colab": {
          "base_uri": "https://localhost:8080/",
          "height": 788
        }
      },
      "source": [
        "labelled_df"
      ],
      "execution_count": 0,
      "outputs": [
        {
          "output_type": "execute_result",
          "data": {
            "text/html": [
              "<div>\n",
              "<style scoped>\n",
              "    .dataframe tbody tr th:only-of-type {\n",
              "        vertical-align: middle;\n",
              "    }\n",
              "\n",
              "    .dataframe tbody tr th {\n",
              "        vertical-align: top;\n",
              "    }\n",
              "\n",
              "    .dataframe thead th {\n",
              "        text-align: right;\n",
              "    }\n",
              "</style>\n",
              "<table border=\"1\" class=\"dataframe\">\n",
              "  <thead>\n",
              "    <tr style=\"text-align: right;\">\n",
              "      <th></th>\n",
              "      <th>business_id</th>\n",
              "      <th>cool</th>\n",
              "      <th>date</th>\n",
              "      <th>funny</th>\n",
              "      <th>review_id</th>\n",
              "      <th>stars</th>\n",
              "      <th>text</th>\n",
              "      <th>useful</th>\n",
              "      <th>user_id</th>\n",
              "    </tr>\n",
              "  </thead>\n",
              "  <tbody>\n",
              "    <tr>\n",
              "      <th>0</th>\n",
              "      <td>ikCg8xy5JIg_NGPx-MSIDA</td>\n",
              "      <td>0</td>\n",
              "      <td>2018-01-09 20:56:38</td>\n",
              "      <td>0</td>\n",
              "      <td>yi0R0Ugj_xUx_Nek0-_Qig</td>\n",
              "      <td>5.0</td>\n",
              "      <td>Went in for a lunch. Steak sandwich was delici...</td>\n",
              "      <td>0</td>\n",
              "      <td>dacAIZ6fTM6mqwW5uxkskg</td>\n",
              "    </tr>\n",
              "    <tr>\n",
              "      <th>1</th>\n",
              "      <td>ikCg8xy5JIg_NGPx-MSIDA</td>\n",
              "      <td>0</td>\n",
              "      <td>2015-09-09 22:10:49</td>\n",
              "      <td>0</td>\n",
              "      <td>kSq_5yiDetNh-RRkvpB5Jw</td>\n",
              "      <td>1.0</td>\n",
              "      <td>Really one of dirtiest places to eat,not sure ...</td>\n",
              "      <td>0</td>\n",
              "      <td>eKyshoiTpZVF1_U4B9CHEg</td>\n",
              "    </tr>\n",
              "    <tr>\n",
              "      <th>2</th>\n",
              "      <td>ikCg8xy5JIg_NGPx-MSIDA</td>\n",
              "      <td>0</td>\n",
              "      <td>2014-05-28 00:22:08</td>\n",
              "      <td>0</td>\n",
              "      <td>Lxm5nANkCytCtMrnzYscXg</td>\n",
              "      <td>1.0</td>\n",
              "      <td>Terrible place to eat and or drink, waitresses...</td>\n",
              "      <td>1</td>\n",
              "      <td>eKyshoiTpZVF1_U4B9CHEg</td>\n",
              "    </tr>\n",
              "    <tr>\n",
              "      <th>3</th>\n",
              "      <td>ikCg8xy5JIg_NGPx-MSIDA</td>\n",
              "      <td>0</td>\n",
              "      <td>2013-01-30 11:40:46</td>\n",
              "      <td>0</td>\n",
              "      <td>npKmNGZiQ3OGeLjPbQBgzw</td>\n",
              "      <td>2.0</td>\n",
              "      <td>We've been here a few times and afterwards I n...</td>\n",
              "      <td>2</td>\n",
              "      <td>0jQPxYQOd2nYM9TEnWPP_w</td>\n",
              "    </tr>\n",
              "    <tr>\n",
              "      <th>4</th>\n",
              "      <td>ikCg8xy5JIg_NGPx-MSIDA</td>\n",
              "      <td>0</td>\n",
              "      <td>2017-05-16 03:53:13</td>\n",
              "      <td>0</td>\n",
              "      <td>fLDc48mLc5CufC4BOnJMew</td>\n",
              "      <td>4.0</td>\n",
              "      <td>First time to the Beagle we stoped in for wing...</td>\n",
              "      <td>0</td>\n",
              "      <td>yHr7uvxJLDH9d2hk33GUrw</td>\n",
              "    </tr>\n",
              "    <tr>\n",
              "      <th>...</th>\n",
              "      <td>...</td>\n",
              "      <td>...</td>\n",
              "      <td>...</td>\n",
              "      <td>...</td>\n",
              "      <td>...</td>\n",
              "      <td>...</td>\n",
              "      <td>...</td>\n",
              "      <td>...</td>\n",
              "      <td>...</td>\n",
              "    </tr>\n",
              "    <tr>\n",
              "      <th>7261</th>\n",
              "      <td>dm6sO_Y8JdKTE1ZM955yug</td>\n",
              "      <td>0</td>\n",
              "      <td>2017-04-29 16:52:03</td>\n",
              "      <td>0</td>\n",
              "      <td>OhS982K1JTXD4tVHsS84UA</td>\n",
              "      <td>5.0</td>\n",
              "      <td>Love the location. Very cozy.  I felt I am in ...</td>\n",
              "      <td>0</td>\n",
              "      <td>3zb6GO3NLQzatWt3qrmrGA</td>\n",
              "    </tr>\n",
              "    <tr>\n",
              "      <th>7262</th>\n",
              "      <td>dm6sO_Y8JdKTE1ZM955yug</td>\n",
              "      <td>0</td>\n",
              "      <td>2017-05-10 06:14:47</td>\n",
              "      <td>0</td>\n",
              "      <td>V10T9X9cgCNfnCaOm205Cw</td>\n",
              "      <td>5.0</td>\n",
              "      <td>This is hands down the best Thai restaurant in...</td>\n",
              "      <td>0</td>\n",
              "      <td>pX8BY8NVbla6Uzg3QIOe-w</td>\n",
              "    </tr>\n",
              "    <tr>\n",
              "      <th>7263</th>\n",
              "      <td>dm6sO_Y8JdKTE1ZM955yug</td>\n",
              "      <td>0</td>\n",
              "      <td>2013-08-14 05:48:36</td>\n",
              "      <td>0</td>\n",
              "      <td>GfuBUBtSLWDKc1KOZCrJAA</td>\n",
              "      <td>4.0</td>\n",
              "      <td>It was delicious and they even brought out Tha...</td>\n",
              "      <td>0</td>\n",
              "      <td>mZRv579CnBtG--OheLP_bQ</td>\n",
              "    </tr>\n",
              "    <tr>\n",
              "      <th>7264</th>\n",
              "      <td>dm6sO_Y8JdKTE1ZM955yug</td>\n",
              "      <td>0</td>\n",
              "      <td>2016-05-18 02:00:20</td>\n",
              "      <td>1</td>\n",
              "      <td>2v0g2qxW1aLXSN-LA4_42Q</td>\n",
              "      <td>5.0</td>\n",
              "      <td>Very clean and calm thai restaurant in sw town...</td>\n",
              "      <td>1</td>\n",
              "      <td>AQpt0Lt4SWF5kFeUbvd88A</td>\n",
              "    </tr>\n",
              "    <tr>\n",
              "      <th>7265</th>\n",
              "      <td>dm6sO_Y8JdKTE1ZM955yug</td>\n",
              "      <td>0</td>\n",
              "      <td>2015-01-16 23:39:14</td>\n",
              "      <td>0</td>\n",
              "      <td>5tsM8CiAc8C-QrKRphNBWw</td>\n",
              "      <td>5.0</td>\n",
              "      <td>As good as it gets is right. The real deal. Fo...</td>\n",
              "      <td>0</td>\n",
              "      <td>9iJ29GkIcO9p5Zz1ul67EA</td>\n",
              "    </tr>\n",
              "  </tbody>\n",
              "</table>\n",
              "<p>7266 rows × 9 columns</p>\n",
              "</div>"
            ],
            "text/plain": [
              "                 business_id  cool  ... useful                 user_id\n",
              "0     ikCg8xy5JIg_NGPx-MSIDA     0  ...      0  dacAIZ6fTM6mqwW5uxkskg\n",
              "1     ikCg8xy5JIg_NGPx-MSIDA     0  ...      0  eKyshoiTpZVF1_U4B9CHEg\n",
              "2     ikCg8xy5JIg_NGPx-MSIDA     0  ...      1  eKyshoiTpZVF1_U4B9CHEg\n",
              "3     ikCg8xy5JIg_NGPx-MSIDA     0  ...      2  0jQPxYQOd2nYM9TEnWPP_w\n",
              "4     ikCg8xy5JIg_NGPx-MSIDA     0  ...      0  yHr7uvxJLDH9d2hk33GUrw\n",
              "...                      ...   ...  ...    ...                     ...\n",
              "7261  dm6sO_Y8JdKTE1ZM955yug     0  ...      0  3zb6GO3NLQzatWt3qrmrGA\n",
              "7262  dm6sO_Y8JdKTE1ZM955yug     0  ...      0  pX8BY8NVbla6Uzg3QIOe-w\n",
              "7263  dm6sO_Y8JdKTE1ZM955yug     0  ...      0  mZRv579CnBtG--OheLP_bQ\n",
              "7264  dm6sO_Y8JdKTE1ZM955yug     0  ...      1  AQpt0Lt4SWF5kFeUbvd88A\n",
              "7265  dm6sO_Y8JdKTE1ZM955yug     0  ...      0  9iJ29GkIcO9p5Zz1ul67EA\n",
              "\n",
              "[7266 rows x 9 columns]"
            ]
          },
          "metadata": {
            "tags": []
          },
          "execution_count": 9
        }
      ]
    },
    {
      "cell_type": "code",
      "metadata": {
        "id": "KM90a4nltNWu",
        "colab_type": "code",
        "colab": {}
      },
      "source": [
        "import xml.etree.ElementTree as ET\n",
        "tree = ET.parse(r'/content/drive/My Drive/Datasets for ML Project/Restaurants_Train.xml')\n",
        "root = tree.getroot()"
      ],
      "execution_count": 0,
      "outputs": []
    },
    {
      "cell_type": "code",
      "metadata": {
        "id": "7wV9a1iuuEc5",
        "colab_type": "code",
        "outputId": "2c6b2dae-9e83-4812-f4eb-715e9725c7ff",
        "colab": {
          "base_uri": "https://localhost:8080/",
          "height": 34
        }
      },
      "source": [
        "import pandas as pd\n",
        "labeled_reviews = []\n",
        "for sentence in root.findall(\"sentence\"):\n",
        "    entry = {}\n",
        "    aterms = []\n",
        "    aspects = []\n",
        "    if sentence.find(\"aspectTerms\"):\n",
        "        for aterm in sentence.find(\"aspectTerms\").findall(\"aspectTerm\"):\n",
        "            aterms.append(aterm.get(\"term\"))\n",
        "    if sentence.find(\"aspectCategories\"):\n",
        "        for aspect in sentence.find(\"aspectCategories\").findall(\"aspectCategory\"):\n",
        "            aspects.append(aspect.get(\"category\"))\n",
        "    entry[\"text\"], entry[\"terms\"], entry[\"aspects\"]= sentence[0].text, aterms, aspects\n",
        "    labeled_reviews.append(entry)\n",
        "labeled_df = pd.DataFrame(labeled_reviews)\n",
        "print(\"there are\",len(labeled_reviews),\"reviews in this training set\")"
      ],
      "execution_count": 0,
      "outputs": [
        {
          "output_type": "stream",
          "text": [
            "there are 3044 reviews in this training set\n"
          ],
          "name": "stdout"
        }
      ]
    },
    {
      "cell_type": "code",
      "metadata": {
        "id": "ttDkvLxKuFA_",
        "colab_type": "code",
        "outputId": "9a618784-9873-44fb-a6c0-430bcec942d4",
        "colab": {
          "base_uri": "https://localhost:8080/",
          "height": 195
        }
      },
      "source": [
        "labeled_df.to_pickle(\"annotated_reviews_df.pkl\")\n",
        "labeled_df.head()"
      ],
      "execution_count": 0,
      "outputs": [
        {
          "output_type": "execute_result",
          "data": {
            "text/html": [
              "<div>\n",
              "<style scoped>\n",
              "    .dataframe tbody tr th:only-of-type {\n",
              "        vertical-align: middle;\n",
              "    }\n",
              "\n",
              "    .dataframe tbody tr th {\n",
              "        vertical-align: top;\n",
              "    }\n",
              "\n",
              "    .dataframe thead th {\n",
              "        text-align: right;\n",
              "    }\n",
              "</style>\n",
              "<table border=\"1\" class=\"dataframe\">\n",
              "  <thead>\n",
              "    <tr style=\"text-align: right;\">\n",
              "      <th></th>\n",
              "      <th>text</th>\n",
              "      <th>terms</th>\n",
              "      <th>aspects</th>\n",
              "    </tr>\n",
              "  </thead>\n",
              "  <tbody>\n",
              "    <tr>\n",
              "      <th>0</th>\n",
              "      <td>But the staff was so horrible to us.</td>\n",
              "      <td>[staff]</td>\n",
              "      <td>[service]</td>\n",
              "    </tr>\n",
              "    <tr>\n",
              "      <th>1</th>\n",
              "      <td>To be completely fair, the only redeeming fact...</td>\n",
              "      <td>[food]</td>\n",
              "      <td>[food, anecdotes/miscellaneous]</td>\n",
              "    </tr>\n",
              "    <tr>\n",
              "      <th>2</th>\n",
              "      <td>The food is uniformly exceptional, with a very...</td>\n",
              "      <td>[food, kitchen, menu]</td>\n",
              "      <td>[food]</td>\n",
              "    </tr>\n",
              "    <tr>\n",
              "      <th>3</th>\n",
              "      <td>Where Gabriela personaly greets you and recomm...</td>\n",
              "      <td>[]</td>\n",
              "      <td>[service]</td>\n",
              "    </tr>\n",
              "    <tr>\n",
              "      <th>4</th>\n",
              "      <td>For those that go once and don't enjoy it, all...</td>\n",
              "      <td>[]</td>\n",
              "      <td>[anecdotes/miscellaneous]</td>\n",
              "    </tr>\n",
              "  </tbody>\n",
              "</table>\n",
              "</div>"
            ],
            "text/plain": [
              "                                                text  ...                          aspects\n",
              "0               But the staff was so horrible to us.  ...                        [service]\n",
              "1  To be completely fair, the only redeeming fact...  ...  [food, anecdotes/miscellaneous]\n",
              "2  The food is uniformly exceptional, with a very...  ...                           [food]\n",
              "3  Where Gabriela personaly greets you and recomm...  ...                        [service]\n",
              "4  For those that go once and don't enjoy it, all...  ...        [anecdotes/miscellaneous]\n",
              "\n",
              "[5 rows x 3 columns]"
            ]
          },
          "metadata": {
            "tags": []
          },
          "execution_count": 12
        }
      ]
    },
    {
      "cell_type": "code",
      "metadata": {
        "id": "ga-CM5hVuFER",
        "colab_type": "code",
        "outputId": "9c6aff10-889e-4682-c431-45714dea4ba4",
        "colab": {
          "base_uri": "https://localhost:8080/",
          "height": 34
        }
      },
      "source": [
        "import neuralcoref \n",
        "import spacy\n",
        "nlp = en_core_web_lg.load()\n",
        "neuralcoref.add_to_pipe(nlp)"
      ],
      "execution_count": 0,
      "outputs": [
        {
          "output_type": "execute_result",
          "data": {
            "text/plain": [
              "<spacy.lang.en.English at 0x7f12789c6c50>"
            ]
          },
          "metadata": {
            "tags": []
          },
          "execution_count": 13
        }
      ]
    },
    {
      "cell_type": "code",
      "metadata": {
        "id": "EueS73XauFMM",
        "colab_type": "code",
        "colab": {}
      },
      "source": [
        "def replace_pronouns(text): \n",
        "    doc=nlp(text)\n",
        "    return doc._.coref_resolved"
      ],
      "execution_count": 0,
      "outputs": []
    },
    {
      "cell_type": "code",
      "metadata": {
        "id": "zJB8Az0auFRo",
        "colab_type": "code",
        "outputId": "0717bd3f-f4b0-4093-f4a4-0c56afaf1c54",
        "colab": {
          "base_uri": "https://localhost:8080/",
          "height": 136
        }
      },
      "source": [
        "import pandas as pd\n",
        "annotated_reviews_df = pd.read_pickle(\"annotated_reviews_df.pkl\")\n",
        "annotated_reviews_df.head(3)"
      ],
      "execution_count": 0,
      "outputs": [
        {
          "output_type": "execute_result",
          "data": {
            "text/html": [
              "<div>\n",
              "<style scoped>\n",
              "    .dataframe tbody tr th:only-of-type {\n",
              "        vertical-align: middle;\n",
              "    }\n",
              "\n",
              "    .dataframe tbody tr th {\n",
              "        vertical-align: top;\n",
              "    }\n",
              "\n",
              "    .dataframe thead th {\n",
              "        text-align: right;\n",
              "    }\n",
              "</style>\n",
              "<table border=\"1\" class=\"dataframe\">\n",
              "  <thead>\n",
              "    <tr style=\"text-align: right;\">\n",
              "      <th></th>\n",
              "      <th>text</th>\n",
              "      <th>terms</th>\n",
              "      <th>aspects</th>\n",
              "    </tr>\n",
              "  </thead>\n",
              "  <tbody>\n",
              "    <tr>\n",
              "      <th>0</th>\n",
              "      <td>But the staff was so horrible to us.</td>\n",
              "      <td>[staff]</td>\n",
              "      <td>[service]</td>\n",
              "    </tr>\n",
              "    <tr>\n",
              "      <th>1</th>\n",
              "      <td>To be completely fair, the only redeeming fact...</td>\n",
              "      <td>[food]</td>\n",
              "      <td>[food, anecdotes/miscellaneous]</td>\n",
              "    </tr>\n",
              "    <tr>\n",
              "      <th>2</th>\n",
              "      <td>The food is uniformly exceptional, with a very...</td>\n",
              "      <td>[food, kitchen, menu]</td>\n",
              "      <td>[food]</td>\n",
              "    </tr>\n",
              "  </tbody>\n",
              "</table>\n",
              "</div>"
            ],
            "text/plain": [
              "                                                text  ...                          aspects\n",
              "0               But the staff was so horrible to us.  ...                        [service]\n",
              "1  To be completely fair, the only redeeming fact...  ...  [food, anecdotes/miscellaneous]\n",
              "2  The food is uniformly exceptional, with a very...  ...                           [food]\n",
              "\n",
              "[3 rows x 3 columns]"
            ]
          },
          "metadata": {
            "tags": []
          },
          "execution_count": 15
        }
      ]
    },
    {
      "cell_type": "code",
      "metadata": {
        "id": "XJvRTuJJuFXV",
        "colab_type": "code",
        "colab": {}
      },
      "source": [
        "annotated_reviews_df[\"text_pro\"] = annotated_reviews_df.text.map(lambda x: replace_pronouns(x))"
      ],
      "execution_count": 0,
      "outputs": []
    },
    {
      "cell_type": "code",
      "metadata": {
        "id": "Mhg3voxY0LZX",
        "colab_type": "code",
        "outputId": "17a15ada-592e-4197-e710-8e4f5887bc35",
        "colab": {
          "base_uri": "https://localhost:8080/",
          "height": 158
        }
      },
      "source": [
        "print(annotated_reviews_df.head(5))"
      ],
      "execution_count": 0,
      "outputs": [
        {
          "output_type": "stream",
          "text": [
            "                                                text  ...                                           text_pro\n",
            "0               But the staff was so horrible to us.  ...               But the staff was so horrible to us.\n",
            "1  To be completely fair, the only redeeming fact...  ...  To be completely fair, the only redeeming fact...\n",
            "2  The food is uniformly exceptional, with a very...  ...  The food is uniformly exceptional, with a very...\n",
            "3  Where Gabriela personaly greets you and recomm...  ...  Where Gabriela personaly greets you and recomm...\n",
            "4  For those that go once and don't enjoy it, all...  ...  For those that go once and don't enjoy it, all...\n",
            "\n",
            "[5 rows x 4 columns]\n"
          ],
          "name": "stdout"
        }
      ]
    },
    {
      "cell_type": "code",
      "metadata": {
        "id": "_KWQko7HuFa3",
        "colab_type": "code",
        "colab": {}
      },
      "source": [
        "#annotated_reviews_df = pd.read_pickle(\"annotated_reviews_df2.pkl\")"
      ],
      "execution_count": 0,
      "outputs": []
    },
    {
      "cell_type": "code",
      "metadata": {
        "id": "xfENmD6auFVR",
        "colab_type": "code",
        "colab": {}
      },
      "source": [
        "from sklearn.model_selection import train_test_split\n",
        "from sklearn.preprocessing import MultiLabelBinarizer\n",
        "import pickle\n",
        "\n",
        "# Convert the multi-labels into arrays\n",
        "mlb = MultiLabelBinarizer()\n",
        "y = mlb.fit_transform(annotated_reviews_df.aspects)\n",
        "X = annotated_reviews_df.text_pro\n",
        "\n",
        "# Split data into train and test set\n",
        "X_train, X_test, y_train, y_test = train_test_split(\n",
        "    X, y, test_size=0.25, random_state=0)\n",
        "\n",
        "# save the the fitted binarizer labels\n",
        "# This is important: it contains the how the multi-label was binarized, so you need to\n",
        "# load this in the next folder in order to undo the transformation for the correct labels.\n",
        "filename = '/content/drive/My Drive/Datasets for ML Project/mlb.pkl'\n",
        "pickle.dump(mlb, open(filename, 'wb'))"
      ],
      "execution_count": 0,
      "outputs": []
    },
    {
      "cell_type": "code",
      "metadata": {
        "id": "ULu1kUekyiLN",
        "colab_type": "code",
        "outputId": "f8e4eac0-a0dc-4a1b-cb5b-603a40f57d76",
        "colab": {
          "base_uri": "https://localhost:8080/",
          "height": 228
        }
      },
      "source": [
        "print(X_train)"
      ],
      "execution_count": 0,
      "outputs": [
        {
          "output_type": "stream",
          "text": [
            "1257     But they don't have a toaster, which is strange.\n",
            "2174    As a retired hipster, I can say with some degr...\n",
            "2406    This place has the the correct ambience and an...\n",
            "191                                             Don't go.\n",
            "1867    Other than being a little crowded and a bit ov...\n",
            "                              ...                        \n",
            "763            This is where the aforementioned line was.\n",
            "835                                 Service is top notch.\n",
            "1653                              The food was authentic.\n",
            "2607    Perhaps it was an off night, but it was supris...\n",
            "2732    The palak paneer was standard, and I was not a...\n",
            "Name: text_pro, Length: 2283, dtype: object\n"
          ],
          "name": "stdout"
        }
      ]
    },
    {
      "cell_type": "code",
      "metadata": {
        "id": "aCrcdhrEuFPs",
        "colab_type": "code",
        "outputId": "25972c20-4a3f-42b6-be29-ce9e06670a25",
        "colab": {
          "base_uri": "https://localhost:8080/",
          "height": 34
        }
      },
      "source": [
        "\n",
        "from sklearn.feature_extraction.text import CountVectorizer\n",
        "from sklearn.feature_extraction.text import TfidfTransformer\n",
        "from sklearn.pipeline import Pipeline\n",
        "from sklearn.naive_bayes import MultinomialNB\n",
        "from skmultilearn.problem_transform import LabelPowerset\n",
        "import numpy as np\n",
        "\n",
        "# LabelPowerset allows for multi-label classification\n",
        "# Build a pipeline for multinomial naive bayes classification\n",
        "text_clf = Pipeline([('vect', CountVectorizer(stop_words = \"english\",ngram_range=(1, 1))),\n",
        "                     ('tfidf', TfidfTransformer(use_idf=False)),\n",
        "                     ('clf', LabelPowerset(MultinomialNB(alpha=1e-1))),])\n",
        "\n",
        "text_clf = text_clf.fit(X_train, y_train)\n",
        "predicted = text_clf.predict(X_test)\n",
        "\n",
        "# Calculate accuracy\n",
        "np.mean(predicted == y_test)"
      ],
      "execution_count": 0,
      "outputs": [
        {
          "output_type": "execute_result",
          "data": {
            "text/plain": [
              "0.8651773981603154"
            ]
          },
          "metadata": {
            "tags": []
          },
          "execution_count": 21
        }
      ]
    },
    {
      "cell_type": "code",
      "metadata": {
        "id": "tQlssKBLuFHi",
        "colab_type": "code",
        "colab": {}
      },
      "source": [
        "import pickle\n",
        "# Train naive bayes on full dataset and save model\n",
        "text_clf = Pipeline([('vect', CountVectorizer(stop_words = \"english\",ngram_range=(1, 1))),\n",
        "                     ('tfidf', TfidfTransformer(use_idf=False)),\n",
        "                     ('clf', LabelPowerset(MultinomialNB(alpha=1e-1))),])\n",
        "text_clf = text_clf.fit(X, y)\n",
        "\n",
        "# save the model to disk\n",
        "filename = 'naive_model1.pkl'"
      ],
      "execution_count": 0,
      "outputs": []
    },
    {
      "cell_type": "code",
      "metadata": {
        "id": "WUok5XkN4Hxl",
        "colab_type": "code",
        "colab": {}
      },
      "source": [
        "import pickle\n",
        "# Train naive bayes on full dataset and save model\n",
        "text_clf = Pipeline([('vect', CountVectorizer(stop_words = \"english\",ngram_range=(1, 1))),\n",
        "                     ('tfidf', TfidfTransformer(use_idf=False)),\n",
        "                     ('clf', LabelPowerset(MultinomialNB(alpha=1e-1))),])\n",
        "text_clf = text_clf.fit(X, y)\n",
        "\n",
        "# save the model to disk\n",
        "filename = 'naive_model1.pkl'"
      ],
      "execution_count": 0,
      "outputs": []
    },
    {
      "cell_type": "code",
      "metadata": {
        "id": "K2bmvlhR4TZq",
        "colab_type": "code",
        "colab": {}
      },
      "source": [
        "pred_df = pd.DataFrame(\n",
        "    {'text_pro': X_test,\n",
        "     'pred_category': mlb.inverse_transform(predicted)\n",
        "    })"
      ],
      "execution_count": 0,
      "outputs": []
    },
    {
      "cell_type": "code",
      "metadata": {
        "id": "Dm9AK_xZ4NUn",
        "colab_type": "code",
        "outputId": "49d7b899-70e1-47a5-dd2f-4ffa901fdad4",
        "colab": {
          "base_uri": "https://localhost:8080/",
          "height": 195
        }
      },
      "source": [
        "\n",
        "pd.set_option('display.max_colwidth', -1)\n",
        "pred_df.head()"
      ],
      "execution_count": 0,
      "outputs": [
        {
          "output_type": "execute_result",
          "data": {
            "text/html": [
              "<div>\n",
              "<style scoped>\n",
              "    .dataframe tbody tr th:only-of-type {\n",
              "        vertical-align: middle;\n",
              "    }\n",
              "\n",
              "    .dataframe tbody tr th {\n",
              "        vertical-align: top;\n",
              "    }\n",
              "\n",
              "    .dataframe thead th {\n",
              "        text-align: right;\n",
              "    }\n",
              "</style>\n",
              "<table border=\"1\" class=\"dataframe\">\n",
              "  <thead>\n",
              "    <tr style=\"text-align: right;\">\n",
              "      <th></th>\n",
              "      <th>text_pro</th>\n",
              "      <th>pred_category</th>\n",
              "    </tr>\n",
              "  </thead>\n",
              "  <tbody>\n",
              "    <tr>\n",
              "      <th>453</th>\n",
              "      <td>It's better than being on the roof of Sutton Place with 19 year old interns jabbing you in the ribs all night.</td>\n",
              "      <td>(anecdotes/miscellaneous,)</td>\n",
              "    </tr>\n",
              "    <tr>\n",
              "      <th>1611</th>\n",
              "      <td>Don't expect to sit down inside though, there are only a few tables and they are always full.</td>\n",
              "      <td>(ambience,)</td>\n",
              "    </tr>\n",
              "    <tr>\n",
              "      <th>2078</th>\n",
              "      <td>Again, if you are in this neighborhood - by all means, come here.</td>\n",
              "      <td>(anecdotes/miscellaneous,)</td>\n",
              "    </tr>\n",
              "    <tr>\n",
              "      <th>2715</th>\n",
              "      <td>Go there to relax and feel like your somewhere else.</td>\n",
              "      <td>(anecdotes/miscellaneous,)</td>\n",
              "    </tr>\n",
              "    <tr>\n",
              "      <th>2602</th>\n",
              "      <td>As far as the service goes, the waitresses were not particularly friendly, but the waitresses got the job done.</td>\n",
              "      <td>(service,)</td>\n",
              "    </tr>\n",
              "  </tbody>\n",
              "</table>\n",
              "</div>"
            ],
            "text/plain": [
              "                                                                                                             text_pro               pred_category\n",
              "453   It's better than being on the roof of Sutton Place with 19 year old interns jabbing you in the ribs all night.   (anecdotes/miscellaneous,)\n",
              "1611  Don't expect to sit down inside though, there are only a few tables and they are always full.                    (ambience,)               \n",
              "2078  Again, if you are in this neighborhood - by all means, come here.                                                (anecdotes/miscellaneous,)\n",
              "2715  Go there to relax and feel like your somewhere else.                                                             (anecdotes/miscellaneous,)\n",
              "2602  As far as the service goes, the waitresses were not particularly friendly, but the waitresses got the job done.  (service,)                "
            ]
          },
          "metadata": {
            "tags": []
          },
          "execution_count": 25
        }
      ]
    },
    {
      "cell_type": "code",
      "metadata": {
        "id": "HM9nSNgVaOCo",
        "colab_type": "code",
        "colab": {}
      },
      "source": [
        "import pickle\n",
        "fileneme = '/content/drive/My Drive/Datasets for ML Project/naive_model1.pkl'\n",
        "pickle.dump(text_clf, open(fileneme, 'wb'))"
      ],
      "execution_count": 0,
      "outputs": []
    }
  ]
}